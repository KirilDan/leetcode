{
 "cells": [
  {
   "cell_type": "markdown",
   "id": "71ae3d67",
   "metadata": {},
   "source": [
    "# Search Insert Position"
   ]
  },
  {
   "cell_type": "code",
   "execution_count": null,
   "id": "15eb37bd",
   "metadata": {},
   "outputs": [],
   "source": [
    "Given a sorted array of distinct integers and a target value, return the index if the target is found. If not, return the index where it would be if it were inserted in order.\n",
    "\n",
    "You must write an algorithm with O(log n) runtime complexity."
   ]
  },
  {
   "cell_type": "code",
   "execution_count": 2,
   "id": "6e283490",
   "metadata": {},
   "outputs": [],
   "source": [
    "from typing import List\n",
    "import cProfile\n",
    "import random"
   ]
  },
  {
   "cell_type": "code",
   "execution_count": 10,
   "id": "71a1dde7",
   "metadata": {},
   "outputs": [],
   "source": [
    "    #def searchInsert(nums: List[int], target: int) -> int:\n",
    "    def searchInsert( nums, target) -> int:\n",
    "        start = 0\n",
    "        end = len(nums)-1\n",
    "        \n",
    "        while end>start:\n",
    "            mid=int((start+end)/2)\n",
    "            if target==nums[mid]:\n",
    "                return mid\n",
    "            if target>nums[mid]:\n",
    "                start= mid+1\n",
    "            if target<nums[mid]:\n",
    "                end= mid-1\n",
    "        print(start,end)        \n",
    "        if  nums[start]>target:\n",
    "            return start\n",
    "        else:\n",
    "            return start+1  \n",
    "            "
   ]
  },
  {
   "cell_type": "code",
   "execution_count": 12,
   "id": "695a3097",
   "metadata": {},
   "outputs": [
    {
     "name": "stdout",
     "output_type": "stream",
     "text": [
      "0 0\n"
     ]
    },
    {
     "data": {
      "text/plain": [
       "1"
      ]
     },
     "execution_count": 12,
     "metadata": {},
     "output_type": "execute_result"
    }
   ],
   "source": [
    "searchInsert([1],\n",
    "1)"
   ]
  },
  {
   "cell_type": "code",
   "execution_count": 13,
   "id": "a399d6d2",
   "metadata": {},
   "outputs": [
    {
     "name": "stdout",
     "output_type": "stream",
     "text": [
      "3 3\n"
     ]
    },
    {
     "data": {
      "text/plain": [
       "4"
      ]
     },
     "execution_count": 13,
     "metadata": {},
     "output_type": "execute_result"
    }
   ],
   "source": [
    "searchInsert([1,3,5,6],\n",
    "7)"
   ]
  },
  {
   "cell_type": "code",
   "execution_count": null,
   "id": "54cfb9da",
   "metadata": {},
   "outputs": [],
   "source": []
  }
 ],
 "metadata": {
  "kernelspec": {
   "display_name": "Python 3 (ipykernel)",
   "language": "python",
   "name": "python3"
  },
  "language_info": {
   "codemirror_mode": {
    "name": "ipython",
    "version": 3
   },
   "file_extension": ".py",
   "mimetype": "text/x-python",
   "name": "python",
   "nbconvert_exporter": "python",
   "pygments_lexer": "ipython3",
   "version": "3.9.13"
  }
 },
 "nbformat": 4,
 "nbformat_minor": 5
}

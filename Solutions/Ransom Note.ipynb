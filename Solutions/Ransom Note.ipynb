{
 "cells": [
  {
   "cell_type": "markdown",
   "source": [
    " # Ransom Note\n"
   ],
   "metadata": {
    "collapsed": false,
    "pycharm": {
     "name": "#%% md\n"
    }
   }
  },
  {
   "cell_type": "markdown",
   "source": [
    "Given two strings ransomNote and magazine, return true if ransomNote can be constructed by using the letters from magazine and false otherwise.\n",
    "\n",
    "Each letter in magazine can only be used once in ransomNote."
   ],
   "metadata": {
    "collapsed": false
   }
  },
  {
   "cell_type": "code",
   "execution_count": 6,
   "metadata": {
    "collapsed": true
   },
   "outputs": [],
   "source": [
    "def canConstruct( ransomNote, magazine):\n",
    "     dic1={}\n",
    "     for i in magazine:\n",
    "         if i not in dic1:\n",
    "             dic1[i]=1\n",
    "         else:\n",
    "             dic1[i]=1+dic1[i]\n",
    "     for j in  ransomNote:\n",
    "\n",
    "         if (j not in dic1) or (dic1[j]<=0):\n",
    "             return False\n",
    "         else:\n",
    "             dic1[j]=dic1[j]-1\n",
    "     return dic1\n"
   ]
  },
  {
   "cell_type": "code",
   "execution_count": 9,
   "outputs": [
    {
     "name": "stdout",
     "output_type": "stream",
     "text": [
      "False False\n",
      "False False\n"
     ]
    },
    {
     "data": {
      "text/plain": "True"
     },
     "execution_count": 9,
     "metadata": {},
     "output_type": "execute_result"
    }
   ],
   "source": [
    "# s=\"qwerttyuy\"\n",
    "# for ele in s:\n",
    "#     print(ele)\n",
    "\n",
    "canConstruct( \"aa\", \"ab\")\n"
   ],
   "metadata": {
    "collapsed": false,
    "pycharm": {
     "name": "#%%\n"
    }
   }
  }
 ],
 "metadata": {
  "kernelspec": {
   "display_name": "Python 3",
   "language": "python",
   "name": "python3"
  },
  "language_info": {
   "codemirror_mode": {
    "name": "ipython",
    "version": 2
   },
   "file_extension": ".py",
   "mimetype": "text/x-python",
   "name": "python",
   "nbconvert_exporter": "python",
   "pygments_lexer": "ipython2",
   "version": "2.7.6"
  }
 },
 "nbformat": 4,
 "nbformat_minor": 0
}
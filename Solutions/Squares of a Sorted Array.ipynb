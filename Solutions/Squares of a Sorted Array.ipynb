{
 "cells": [
  {
   "cell_type": "markdown",
   "id": "07e67db6",
   "metadata": {},
   "source": [
    "# Squares of a Sorted Array"
   ]
  },
  {
   "cell_type": "markdown",
   "id": "92b3daed",
   "metadata": {},
   "source": [
    "Given an integer array nums sorted in non-decreasing order, return an array of the squares of each number sorted in non-decreasing order."
   ]
  },
  {
   "cell_type": "code",
   "execution_count": 4,
   "id": "605a33dc",
   "metadata": {},
   "outputs": [],
   "source": [
    "from typing import List\n",
    "import cProfile\n",
    "import random"
   ]
  },
  {
   "cell_type": "code",
   "execution_count": 9,
   "id": "b238ad93",
   "metadata": {},
   "outputs": [],
   "source": [
    "def sortedSquares(nums: List[int]) -> List[int]:\n",
    "    n=len(nums)\n",
    "    res=[0]*n\n",
    "    l=0\n",
    "    r=n-1\n",
    "    for i in range(n-1,-1,-1):\n",
    "        if abs(nums[l])<abs(nums[r]):\n",
    "            res[i]=nums[r]**2\n",
    "            r=r-1\n",
    "        else:\n",
    "            res[i]=nums[l]**2\n",
    "            l=l+1\n",
    "    return res       "
   ]
  },
  {
   "cell_type": "code",
   "execution_count": 10,
   "id": "aedea26f",
   "metadata": {},
   "outputs": [
    {
     "data": {
      "text/plain": [
       "[0, 1, 9, 16, 100]"
      ]
     },
     "execution_count": 10,
     "metadata": {},
     "output_type": "execute_result"
    }
   ],
   "source": [
    "sortedSquares([-4,-1,0,3,10])"
   ]
  },
  {
   "cell_type": "code",
   "execution_count": null,
   "id": "ea925dc8",
   "metadata": {},
   "outputs": [],
   "source": []
  }
 ],
 "metadata": {
  "kernelspec": {
   "display_name": "Python 3 (ipykernel)",
   "language": "python",
   "name": "python3"
  },
  "language_info": {
   "codemirror_mode": {
    "name": "ipython",
    "version": 3
   },
   "file_extension": ".py",
   "mimetype": "text/x-python",
   "name": "python",
   "nbconvert_exporter": "python",
   "pygments_lexer": "ipython3",
   "version": "3.9.13"
  }
 },
 "nbformat": 4,
 "nbformat_minor": 5
}

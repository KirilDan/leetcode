{
 "cells": [
  {
   "cell_type": "markdown",
   "metadata": {
    "collapsed": true,
    "pycharm": {
     "name": "#%% md\n"
    }
   },
   "source": [
    "#  Matrix Diagonal Sum"
   ]
  },
  {
   "cell_type": "markdown",
   "source": [
    "Given a square matrix mat, return the sum of the matrix diagonals.\n",
    "\n",
    "Only include the sum of all the elements on the primary diagonal and all the elements on the secondary diagonal that are not part of the primary diagonal."
   ],
   "metadata": {
    "collapsed": false,
    "pycharm": {
     "name": "#%% md\n"
    }
   }
  },
  {
   "cell_type": "code",
   "execution_count": 12,
   "outputs": [
    {
     "name": "stdout",
     "output_type": "stream",
     "text": [
      "1\n"
     ]
    },
    {
     "data": {
      "text/plain": "25"
     },
     "execution_count": 12,
     "metadata": {},
     "output_type": "execute_result"
    }
   ],
   "source": [
    "def diagonalSum(mat):\n",
    "        \"\"\"\n",
    "        :type mat: List[List[int]]\n",
    "        :rtype: int\n",
    "        \"\"\"\n",
    "        N=len(mat)-1\n",
    "        res=0\n",
    "        for i in range(len(mat)):\n",
    "\n",
    "             res=mat[i][i]+mat[i][abs(N-i)]+res\n",
    "        if len(mat)%2!=0:\n",
    "            r=int(len(mat)/2)\n",
    "            print(r)\n",
    "            res=res-mat[r][r]\n",
    "        return res\n",
    "\n",
    " #%%\n",
    "# mat = [[1,1,1,2],\n",
    "#               [1,3,4,1],\n",
    "#               [1,5,6,1],\n",
    "#               [7,1,1,8]]\n",
    "mat = [[1,2,3],\n",
    "              [4,5,6],\n",
    "              [7,8,9]]\n",
    "\n",
    "diagonalSum(mat)"
   ],
   "metadata": {
    "collapsed": false,
    "pycharm": {
     "name": "#%%\n"
    }
   }
  }
 ],
 "metadata": {
  "kernelspec": {
   "display_name": "Python 3",
   "language": "python",
   "name": "python3"
  },
  "language_info": {
   "codemirror_mode": {
    "name": "ipython",
    "version": 2
   },
   "file_extension": ".py",
   "mimetype": "text/x-python",
   "name": "python",
   "nbconvert_exporter": "python",
   "pygments_lexer": "ipython2",
   "version": "2.7.6"
  }
 },
 "nbformat": 4,
 "nbformat_minor": 0
}
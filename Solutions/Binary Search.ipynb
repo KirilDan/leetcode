{
 "cells": [
  {
   "cell_type": "markdown",
   "id": "de2b1f75",
   "metadata": {},
   "source": [
    "# Binary Search"
   ]
  },
  {
   "cell_type": "markdown",
   "id": "b4bc36fa",
   "metadata": {},
   "source": [
    "Given an array of integers nums which is sorted in ascending order, and an integer target, write a function to search target in nums. If target exists, then return its index. Otherwise, return -1.\n",
    "\n",
    "You must write an algorithm with O(log n) runtime complexity."
   ]
  },
  {
   "cell_type": "code",
   "execution_count": 7,
   "id": "643c0b8f",
   "metadata": {},
   "outputs": [
    {
     "data": {
      "text/plain": [
       "-1"
      ]
     },
     "execution_count": 7,
     "metadata": {},
     "output_type": "execute_result"
    }
   ],
   "source": [
    "searchI([-1,0,3,5,9,12],2)"
   ]
  },
  {
   "cell_type": "code",
   "execution_count": 3,
   "id": "7f3529e9",
   "metadata": {},
   "outputs": [],
   "source": [
    "def search( nums, target):\n",
    "    start=0\n",
    "    end =len(nums)-1\n",
    "    print(start, end)\n",
    "    #return biSerch(nums,target,start,end)\n",
    "\n",
    "def biSerch(nums,target,start,end):\n",
    "    if start > end:\n",
    "        return - 1\n",
    "    mid=int((start+end)/2)\n",
    "\n",
    "    if nums[mid]==target:\n",
    "        return mid\n",
    "    elif nums[mid]>target:\n",
    "        start=mid+1\n",
    "    elif nums[mid]<target:\n",
    "        end=mid-1 \n",
    "    return biSerch(nums,target,start,end)  \n",
    "    "
   ]
  },
  {
   "cell_type": "code",
   "execution_count": 6,
   "id": "503aeaa1",
   "metadata": {},
   "outputs": [],
   "source": [
    "def searchI( nums, target):\n",
    "    start=0\n",
    "    end =len(nums)-1\n",
    "    #print(start, end)\n",
    "    while end>start:\n",
    "        mid=int((start+end)/2)\n",
    "\n",
    "        if nums[mid]==target:\n",
    "            return mid\n",
    "        elif nums[mid]>target:\n",
    "            start=mid+1\n",
    "        elif nums[mid]<target:\n",
    "            end=mid-1 \n",
    "    return -1       \n",
    "    #return biSerch(nums,target,start,end)"
   ]
  },
  {
   "cell_type": "code",
   "execution_count": null,
   "id": "9da3c4dd",
   "metadata": {},
   "outputs": [],
   "source": []
  }
 ],
 "metadata": {
  "kernelspec": {
   "display_name": "Python 3 (ipykernel)",
   "language": "python",
   "name": "python3"
  },
  "language_info": {
   "codemirror_mode": {
    "name": "ipython",
    "version": 3
   },
   "file_extension": ".py",
   "mimetype": "text/x-python",
   "name": "python",
   "nbconvert_exporter": "python",
   "pygments_lexer": "ipython3",
   "version": "3.9.13"
  }
 },
 "nbformat": 4,
 "nbformat_minor": 5
}

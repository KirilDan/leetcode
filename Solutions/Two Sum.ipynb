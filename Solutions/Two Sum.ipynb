{
 "cells": [
  {
   "cell_type": "code",
   "execution_count": 1,
   "id": "b3edb64a",
   "metadata": {},
   "outputs": [],
   "source": [
    "    def twoSum( nums, target):\n",
    "        \"\"\"\n",
    "        :type nums: List[int]\n",
    "        :type target: int\n",
    "        :rtype: List[int]\n",
    "        \"\"\"\n",
    "        dic={}\n",
    "        for i in range(len(nums)):\n",
    "            second=target-nums[i]\n",
    "            if second in dic:\n",
    "                return[dic[second],i]\n",
    "            dic[nums[i]]=i"
   ]
  },
  {
   "cell_type": "code",
   "execution_count": 4,
   "id": "54345ea4",
   "metadata": {},
   "outputs": [
    {
     "data": {
      "text/plain": [
       "[0, 1]"
      ]
     },
     "execution_count": 4,
     "metadata": {},
     "output_type": "execute_result"
    }
   ],
   "source": [
    "twoSum( [2,7,11,15],  9)"
   ]
  },
  {
   "cell_type": "code",
   "execution_count": null,
   "id": "062293f2",
   "metadata": {},
   "outputs": [],
   "source": []
  }
 ],
 "metadata": {
  "kernelspec": {
   "display_name": "Python 3 (ipykernel)",
   "language": "python",
   "name": "python3"
  },
  "language_info": {
   "codemirror_mode": {
    "name": "ipython",
    "version": 3
   },
   "file_extension": ".py",
   "mimetype": "text/x-python",
   "name": "python",
   "nbconvert_exporter": "python",
   "pygments_lexer": "ipython3",
   "version": "3.9.13"
  }
 },
 "nbformat": 4,
 "nbformat_minor": 5
}

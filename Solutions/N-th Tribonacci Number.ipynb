{
 "cells": [
  {
   "cell_type": "markdown",
   "metadata": {
    "collapsed": true,
    "pycharm": {
     "name": "#%% md\n"
    }
   },
   "source": [
    "# N-th Tribonacci Number"
   ]
  },
  {
   "cell_type": "code",
   "execution_count": null,
   "outputs": [],
   "source": [
    "The Tribonacci sequence Tn is defined as follows:\n",
    "\n",
    "T0 = 0, T1 = 1, T2 = 1, and Tn+3 = Tn + Tn+1 + Tn+2 for n >= 0.\n",
    "\n",
    "Given n, return the value of Tn"
   ],
   "metadata": {
    "collapsed": false,
    "pycharm": {
     "name": "#%%\n"
    }
   }
  },
  {
   "cell_type": "code",
   "execution_count": 1,
   "outputs": [],
   "source": [
    "def tribonacci(n):\n",
    "        \"\"\"\n",
    "        :type n: int\n",
    "        :rtype: int\n",
    "        \"\"\"\n",
    "        if n==0:\n",
    "            return  0\n",
    "        if n==1:\n",
    "            return 1\n",
    "        if n==2:\n",
    "            return 1\n",
    "        stepi=0\n",
    "        step11=1\n",
    "        step12=1\n",
    "        #temp=0\n",
    "        for i in range(2,n):\n",
    "            # temp=step11\n",
    "            # temp1=step12\n",
    "            # step11=step11+stepi\n",
    "            #stepi=temp\n",
    "            temp=stepi+step11+step12\n",
    "            stepi=step11\n",
    "            step11=step12\n",
    "            step12=temp\n",
    "        return  step12"
   ],
   "metadata": {
    "collapsed": false,
    "pycharm": {
     "name": "#%%\n"
    }
   }
  },
  {
   "cell_type": "code",
   "execution_count": 3,
   "outputs": [
    {
     "data": {
      "text/plain": "1389537"
     },
     "execution_count": 3,
     "metadata": {},
     "output_type": "execute_result"
    }
   ],
   "source": [
    "tribonacci(25)\n"
   ],
   "metadata": {
    "collapsed": false,
    "pycharm": {
     "name": "#%%\n"
    }
   }
  }
 ],
 "metadata": {
  "kernelspec": {
   "display_name": "Python 3",
   "language": "python",
   "name": "python3"
  },
  "language_info": {
   "codemirror_mode": {
    "name": "ipython",
    "version": 2
   },
   "file_extension": ".py",
   "mimetype": "text/x-python",
   "name": "python",
   "nbconvert_exporter": "python",
   "pygments_lexer": "ipython2",
   "version": "2.7.6"
  }
 },
 "nbformat": 4,
 "nbformat_minor": 0
}